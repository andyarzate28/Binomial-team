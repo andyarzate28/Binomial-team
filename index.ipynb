{
 "cells": [
  {
   "cell_type": "markdown",
   "id": "aa72ed1a",
   "metadata": {},
   "source": [
    "# Distribución Binomial\n",
    "\n",
    "Este trabajo fue realizado por tres integrantes. Resolviendo 3 ejercicios cada uno.\n",
    "\n",
    "## Índice:\n",
    "\n",
    "- [👤 Xochitl - Ejercicios 1 a 3](xochitl.ipynb)\n",
    "- [👤 Iveth - Ejercicios 4 a 6](iveth.ipynb)\n",
    "- [👤 Andrea - Ejercicios 7 a 9](andrea.ipynb)\n"
   ]
  }
 ],
 "metadata": {
  "language_info": {
   "name": "python"
  }
 },
 "nbformat": 4,
 "nbformat_minor": 5
}
